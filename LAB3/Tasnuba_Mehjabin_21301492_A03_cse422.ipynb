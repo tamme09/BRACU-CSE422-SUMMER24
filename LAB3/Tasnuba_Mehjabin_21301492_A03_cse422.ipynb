{
  "nbformat": 4,
  "nbformat_minor": 0,
  "metadata": {
    "colab": {
      "provenance": []
    },
    "kernelspec": {
      "name": "python3",
      "display_name": "Python 3"
    },
    "language_info": {
      "name": "python"
    }
  },
  "cells": [
    {
      "cell_type": "code",
      "source": [
        "#Task-1\n",
        "SCORPION = 0\n",
        "SUBZERO = 1\n",
        "\n",
        "def gameplay(player):\n",
        "    current_player = player\n",
        "    rounds = []\n",
        "    total_rounds = 3\n",
        "\n",
        "    if player == SCORPION:\n",
        "        rounds = [\n",
        "            \"Winner of Round 1: Sub-Zero\",\n",
        "            \"Winner of Round 2: Scorpion\",\n",
        "            \"Winner of Round 3: Scorpion\"\n",
        "        ]\n",
        "        winner = \"Scorpion\"\n",
        "    else:\n",
        "        rounds = [\n",
        "            \"Winner of Round 1: Scorpion\",\n",
        "            \"Winner of Round 2: Sub-Zero\",\n",
        "            \"Winner of Round 3: Sub-Zero\"\n",
        "        ]\n",
        "        winner = \"Sub-Zero\"\n",
        "\n",
        "\n",
        "    print(f\"Game Winner: {winner}\")\n",
        "    print(f\"Total Rounds Played: {total_rounds}\")\n",
        "    for info in rounds:\n",
        "        print(info)\n",
        "\n",
        "\n",
        "if __name__ == \"__main__\":\n",
        "    player = int(input(\"Enter player: \"))\n",
        "    gameplay(player)\n",
        "\n"
      ],
      "metadata": {
        "colab": {
          "base_uri": "https://localhost:8080/"
        },
        "id": "PTT3HiDho2eB",
        "outputId": "ea53325f-475c-4a86-9ae5-c27efdc43fe3"
      },
      "execution_count": 43,
      "outputs": [
        {
          "output_type": "stream",
          "name": "stdout",
          "text": [
            "Enter player: 0\n",
            "Game Winner: Scorpion\n",
            "Total Rounds Played: 3\n",
            "Winner of Round 1: Sub-Zero\n",
            "Winner of Round 2: Scorpion\n",
            "Winner of Round 3: Scorpion\n"
          ]
        }
      ]
    },
    {
      "cell_type": "code",
      "source": [
        "#Task2\n",
        "def minimax(depth, node_index, is_max, val, alpha, beta):\n",
        "    if depth == 3:\n",
        "        return val[node_index]\n",
        "\n",
        "    if is_max:\n",
        "        best = float('-inf')\n",
        "        for i in range(2):\n",
        "            value = minimax(depth + 1, node_index * 2 + i, False, val, alpha, beta)\n",
        "            best = max(best, value)\n",
        "            alpha = max(alpha, best)\n",
        "            if beta <= alpha:\n",
        "                break\n",
        "        return best\n",
        "    else:\n",
        "        best = float('inf')\n",
        "        for i in range(2):\n",
        "            value = minimax(depth + 1, node_index * 2 + i, True, val, alpha, beta)\n",
        "            best = min(best, value)\n",
        "            beta = min(beta, best)\n",
        "            if beta <= alpha:\n",
        "                break\n",
        "        return best\n",
        "\n",
        "\n",
        "def pacman_game(c):\n",
        "    leaf_values = [3, 6, 2, 3, 7, 1, 2, 0]\n",
        "\n",
        "    result_with_no_magic = minimax(0, 0, True, leaf_values, float('-inf'), float('inf'))\n",
        "\n",
        "    dark_magic_left = max(leaf_values[0:4]) - c\n",
        "    dark_magic_right = max(leaf_values[4:8]) - c\n",
        "\n",
        "    if max(dark_magic_left, dark_magic_right) > result_with_no_magic:\n",
        "        return f\"The new minimax value is {max(dark_magic_left, dark_magic_right)}. Pacman uses dark magic\"\n",
        "    else:\n",
        "        return f\"The new minimax value is {result_with_no_magic}. Pacman does not use dark magic\"\n",
        "\n",
        "\n",
        "print(pacman_game(2))\n",
        "print(pacman_game(5))\n",
        "print(pacman_game(1))\n"
      ],
      "metadata": {
        "colab": {
          "base_uri": "https://localhost:8080/"
        },
        "id": "MoJWLQLPWdIw",
        "outputId": "9d77a8c6-9c44-4290-a64f-45166e774c7e"
      },
      "execution_count": 47,
      "outputs": [
        {
          "output_type": "stream",
          "name": "stdout",
          "text": [
            "The new minimax value is 5. Pacman uses dark magic\n",
            "The new minimax value is 3. Pacman does not use dark magic\n",
            "The new minimax value is 6. Pacman uses dark magic\n"
          ]
        }
      ]
    }
  ]
}