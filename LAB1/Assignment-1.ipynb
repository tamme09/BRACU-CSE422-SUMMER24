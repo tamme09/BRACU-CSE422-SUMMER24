{
  "nbformat": 4,
  "nbformat_minor": 0,
  "metadata": {
    "colab": {
      "provenance": []
    },
    "kernelspec": {
      "name": "python3",
      "display_name": "Python 3"
    },
    "language_info": {
      "name": "python"
    }
  },
  "cells": [
    {
      "cell_type": "code",
      "execution_count": 5,
      "metadata": {
        "colab": {
          "base_uri": "https://localhost:8080/"
        },
        "id": "Y0frWR9D7XES",
        "outputId": "ee9e9643-bfb2-4c94-d926-a4afcc181da8"
      },
      "outputs": [
        {
          "output_type": "stream",
          "name": "stdout",
          "text": [
            "Heuristic: {'Arad': 366, 'Craiova': 160, 'Eforie': 161, 'Fagaras': 176, 'Giurgiu': 77, 'Mehadia': 241, 'Neamt': 234, 'Sibiu': 253, 'Oradea': 380, 'Pitesti': 100, 'RimnicuVilcea': 193, 'Dobreta': 242, 'Hirsova': 151, 'lasi': 226, 'Lugoj': 244, 'Timisoara': 329, 'Urziceni': 80, 'Vaslui': 199, 'Zerind': 374, 'Bucharest': 0}\n",
            "Adjacency List: {'Arad': [('Zerind', 75), ('Timisoara', 118), ('Sibiu', 140)], 'Craiova': [('Dobreta', 120), ('RimnicuVilcea', 146), ('Pitesti', 138)], 'Eforie': [('Hirsova', 86)], 'Fagaras': [('Sibiu', 99), ('Bucharest', 211)], 'Giurgiu': [('Bucharest', 90)], 'Mehadia': [('Lugoj', 70), ('Dobreta', 75)], 'Neamt': [('lasi', 87)], 'Sibiu': [('Oradea', 151), ('Arad', 140), ('RimnicuVilcea', 80), ('Fagaras', 99)], 'Oradea': [('Zerind', 71), ('Sibiu', 151)], 'Pitesti': [('RimnicuVilcea', 97), ('Craiova', 138), ('Bucharest', 101)], 'RimnicuVilcea': [('Sibiu', 80), ('Craiova', 146), ('Pitesti', 97)], 'Dobreta': [('Mehadia', 75), ('Craiova', 120)], 'Hirsova': [('Urziceni', 98), ('Eforie', 86)], 'lasi': [('Vaslui', 92), ('Neamt', 87)], 'Lugoj': [('Timisoara', 111), ('Mehadia', 70)], 'Timisoara': [('Arad', 118), ('Lugoj', 111)], 'Urziceni': [('Bucharest', 85), ('Hirsova', 98), ('Vaslui', 142)], 'Vaslui': [('Urziceni', 142), ('lasi', 92)], 'Zerind': [('Oradea', 71), ('Arad', 75)], 'Bucharest': [('Fagaras', 211), ('Pitesti', 101), ('Giurgiu', 90), ('Urziceni', 85)]}\n"
          ]
        }
      ],
      "source": [
        "# Open the file\n",
        "inp = open(\"input_file.txt\", 'r')\n",
        "\n",
        "# Function to save the heuristics value of node in dictionary\n",
        "def Heuristics(inp):\n",
        "    dict_H = {}\n",
        "    for e in inp:\n",
        "        H_val = e.strip().split()\n",
        "        dict_H[H_val[0]] = int(H_val[1])\n",
        "    return dict_H\n",
        "\n",
        "# Resetting the file pointer to the beginning\n",
        "inp.seek(0)\n",
        "\n",
        "# Function to save the child path cost using Adjacency list\n",
        "def Adj_list(inp):\n",
        "    adj_L = {}\n",
        "    for e in inp:\n",
        "        val = e.strip().split()\n",
        "        city = val[0]\n",
        "\n",
        "        for i in range(0, len(val[2:]), 2):\n",
        "            neighbor = val[2:][i]\n",
        "            cost = int(val[2:][i + 1])\n",
        "            if city not in adj_L:\n",
        "                adj_L[city] = []\n",
        "            adj_L[city].append((neighbor, cost))\n",
        "\n",
        "    return adj_L\n",
        "\n",
        "# Get heuristic values\n",
        "heuristic = Heuristics(inp)\n",
        "\n",
        "# Resetting the file pointer to the beginning again\n",
        "inp.seek(0)\n",
        "\n",
        "# Get adjacency list\n",
        "graph = Adj_list(inp)\n",
        "\n",
        "\n",
        "print(\"Heuristic:\", heuristic)\n",
        "print(\"Adjacency List:\", graph)\n"
      ]
    },
    {
      "cell_type": "code",
      "source": [
        "import heapq\n",
        "\n",
        "# A* Search Algorithm\n",
        "def aStarSearch(graph, start, goal, heuristicList):\n",
        "    notVisited = [(0, start)]   # Priority queue of nodes to explore\n",
        "    visited = set()             # Set of visited nodes\n",
        "    parent = {}\n",
        "    cost = {}\n",
        "    parent[start] = None\n",
        "    cost[start] = 0\n",
        "\n",
        "    while notVisited:\n",
        "        _, current = heapq.heappop(notVisited)\n",
        "\n",
        "        if current in visited:\n",
        "            continue\n",
        "\n",
        "        visited.add(current)\n",
        "\n",
        "        if current == goal:\n",
        "            path = []\n",
        "            total_cost = cost[current]\n",
        "            while current is not None:\n",
        "                path.append(current)\n",
        "                current = parent[current]\n",
        "            path.reverse()\n",
        "            return path, total_cost\n",
        "\n",
        "        for neighbor, path_cost in graph.get(current, []):\n",
        "            new_cost = cost[current] + path_cost\n",
        "            if neighbor not in cost or new_cost < cost[neighbor]:\n",
        "                cost[neighbor] = new_cost\n",
        "                priority = new_cost + heuristicList.get(neighbor, float('inf'))\n",
        "                heapq.heappush(notVisited, (priority, neighbor))\n",
        "                parent[neighbor] = current\n",
        "\n",
        "    return None, float('inf')\n",
        "\n",
        "# Find the optimal path from Arad to Bucharest\n",
        "path, total_cost = aStarSearch(graph, 'Arad', 'Bucharest', heuristic)\n",
        "print(\"Optimal path:\", path)\n",
        "print(\"Total cost:\", total_cost)\n"
      ],
      "metadata": {
        "colab": {
          "base_uri": "https://localhost:8080/"
        },
        "id": "jyECFlCG7ZL8",
        "outputId": "e8f24da6-a3b1-4c24-c27c-82e2a6fad8ca"
      },
      "execution_count": 6,
      "outputs": [
        {
          "output_type": "stream",
          "name": "stdout",
          "text": [
            "Optimal path: ['Arad', 'Sibiu', 'RimnicuVilcea', 'Pitesti', 'Bucharest']\n",
            "Total cost: 418\n"
          ]
        }
      ]
    }
  ]
}